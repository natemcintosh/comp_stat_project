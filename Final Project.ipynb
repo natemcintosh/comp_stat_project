{
 "cells": [
  {
   "cell_type": "markdown",
   "id": "2ed5c5e7",
   "metadata": {},
   "source": [
    "## Setting up the Dataset"
   ]
  },
  {
   "cell_type": "markdown",
   "id": "78290b74",
   "metadata": {},
   "source": [
    "We will only need pandas and numpy for this exercise"
   ]
  },
  {
   "cell_type": "code",
   "execution_count": 1,
   "id": "d2ab0d26",
   "metadata": {},
   "outputs": [],
   "source": [
    "import pandas as pd\n",
    "import numpy as np\n",
    "from numpy.linalg import norm"
   ]
  },
  {
   "cell_type": "markdown",
   "id": "bf9de981",
   "metadata": {},
   "source": [
    "Read in the parquet file"
   ]
  },
  {
   "cell_type": "code",
   "execution_count": 2,
   "id": "9b10c1e0",
   "metadata": {},
   "outputs": [],
   "source": [
    "df = pd.read_parquet('retail_flow_daily.parquet')"
   ]
  },
  {
   "cell_type": "markdown",
   "id": "41f38cc2",
   "metadata": {},
   "source": [
    "Preview of the data"
   ]
  },
  {
   "cell_type": "code",
   "execution_count": 3,
   "id": "b0a2455b",
   "metadata": {},
   "outputs": [
    {
     "name": "stdout",
     "output_type": "stream",
     "text": [
      "         date ticker  volume_buy  volume_sell  vwap_buy  vwap_sell\n",
      "0  2016-01-04      A       28418        30233     40.60      40.54\n",
      "1  2016-01-04    AAL      448009       437415     40.79      40.83\n",
      "2  2016-01-04    AAP       45070        31598    152.29     152.02\n",
      "3  2016-01-04   AAPL     3030463      2640489    103.91     103.84\n",
      "4  2016-01-04   ABBV      307619       291025     57.25      57.28\n"
     ]
    }
   ],
   "source": [
    "print(df.head())"
   ]
  },
  {
   "cell_type": "markdown",
   "id": "bf96cc09",
   "metadata": {},
   "source": [
    "Sort values by ticker, and then by date"
   ]
  },
  {
   "cell_type": "code",
   "execution_count": 4,
   "id": "3b17d82d",
   "metadata": {},
   "outputs": [],
   "source": [
    "df = df.sort_values(by=['ticker', 'date'])\n",
    "df = df.reset_index(drop=True)"
   ]
  },
  {
   "cell_type": "markdown",
   "id": "c18c96e3",
   "metadata": {},
   "source": [
    "Create a column full of 1's. This will allow us to easily see how many days have passed (since we'll be looking at previous x trading days."
   ]
  },
  {
   "cell_type": "code",
   "execution_count": 5,
   "id": "bac859e7",
   "metadata": {},
   "outputs": [],
   "source": [
    "df['ones']= 1"
   ]
  },
  {
   "cell_type": "markdown",
   "id": "6578ce66",
   "metadata": {},
   "source": [
    "Index by ticker and date, and then cumulative sum the data"
   ]
  },
  {
   "cell_type": "code",
   "execution_count": 6,
   "id": "16771167",
   "metadata": {},
   "outputs": [],
   "source": [
    "df_grouped = df.groupby(['ticker', 'date']).sum().groupby(level=0).cumsum()"
   ]
  },
  {
   "cell_type": "code",
   "execution_count": 7,
   "id": "d88a8b55",
   "metadata": {},
   "outputs": [
    {
     "name": "stdout",
     "output_type": "stream",
     "text": [
      "                   volume_buy  volume_sell   vwap_buy  vwap_sell  ones\n",
      "ticker date                                                           \n",
      "A      2016-01-04       28418        30233      40.60      40.54     1\n",
      "       2016-01-05       47714        74909      81.21      81.09     2\n",
      "       2016-01-06       68063       103797     121.78     121.78     3\n",
      "       2016-01-07      109157       142496     161.03     161.00     4\n",
      "       2016-01-08      141344       168150     199.86     199.87     5\n",
      "...                       ...          ...        ...        ...   ...\n",
      "ZTS    2022-01-06    68433030     64925805  161743.90  161727.86  1515\n",
      "       2022-01-07    68470994     64967654  161956.81  161940.81  1516\n",
      "       2022-01-10    68516628     65009491  162167.53  162151.30  1517\n",
      "       2022-01-11    68562959     65049639  162378.97  162362.67  1518\n",
      "       2022-01-12    68603187     65085979  162591.86  162575.38  1519\n",
      "\n",
      "[737378 rows x 5 columns]\n"
     ]
    }
   ],
   "source": [
    "print(df_grouped)"
   ]
  },
  {
   "cell_type": "code",
   "execution_count": 8,
   "id": "3cbdf0ad",
   "metadata": {
    "scrolled": true
   },
   "outputs": [],
   "source": [
    "df_grouped = df_grouped.reset_index(drop=True)"
   ]
  },
  {
   "cell_type": "markdown",
   "id": "ba11379d",
   "metadata": {},
   "source": [
    "Factor 1: percent change over the last 20 trading days relative to prior 20 trading day period."
   ]
  },
  {
   "cell_type": "code",
   "execution_count": 9,
   "id": "9c70f698",
   "metadata": {},
   "outputs": [],
   "source": [
    "factor1 = []"
   ]
  },
  {
   "cell_type": "code",
   "execution_count": 10,
   "id": "6bfa610e",
   "metadata": {},
   "outputs": [],
   "source": [
    "for idx in df_grouped.index:\n",
    "    if df_grouped['ones'][idx] >= 40:\n",
    "        cur_buy_change = df_grouped['volume_buy'][idx] - df_grouped['volume_buy'][idx-19]\n",
    "        prev_buy_change = df_grouped['volume_buy'][idx-20] - df_grouped['volume_buy'][idx-39]\n",
    "        percent_change = (cur_buy_change - prev_buy_change) / prev_buy_change\n",
    "        factor1.append(percent_change)\n",
    "    else:\n",
    "        factor1.append(None)"
   ]
  },
  {
   "cell_type": "markdown",
   "id": "b23bf03b",
   "metadata": {},
   "source": [
    "Factor 2: Total volume buys in the last 20 trading days"
   ]
  },
  {
   "cell_type": "code",
   "execution_count": 11,
   "id": "ff2e16ba",
   "metadata": {},
   "outputs": [],
   "source": [
    "factor2 = []"
   ]
  },
  {
   "cell_type": "code",
   "execution_count": 12,
   "id": "79adbf02",
   "metadata": {},
   "outputs": [],
   "source": [
    "for idx in df_grouped.index:\n",
    "    if df_grouped['ones'][idx] >= 20:\n",
    "        l20_volume = df_grouped['volume_buy'][idx] - df_grouped['volume_buy'][idx-19]\n",
    "        factor2.append(l20_volume)\n",
    "    else:\n",
    "        factor2.append(None)"
   ]
  },
  {
   "cell_type": "markdown",
   "id": "b93110ee",
   "metadata": {},
   "source": [
    "Add factor1, factor 2, and the number of days column to the original dataframe, since the third factor doesn't need cumulative sum data."
   ]
  },
  {
   "cell_type": "code",
   "execution_count": 13,
   "id": "e28fa040",
   "metadata": {},
   "outputs": [],
   "source": [
    "df['trading_days'] = df_grouped['ones']\n",
    "df['factor_1'] = factor1\n",
    "df['factor_2'] = factor2"
   ]
  },
  {
   "cell_type": "code",
   "execution_count": 14,
   "id": "a76c6842",
   "metadata": {},
   "outputs": [
    {
     "name": "stdout",
     "output_type": "stream",
     "text": [
      "              date ticker  volume_buy  volume_sell  vwap_buy  vwap_sell  ones  \\\n",
      "0       2016-01-04      A       28418        30233     40.60      40.54     1   \n",
      "1       2016-01-05      A       19296        44676     40.61      40.55     1   \n",
      "2       2016-01-06      A       20349        28888     40.57      40.69     1   \n",
      "3       2016-01-07      A       41094        38699     39.25      39.22     1   \n",
      "4       2016-01-08      A       32187        25654     38.83      38.87     1   \n",
      "...            ...    ...         ...          ...       ...        ...   ...   \n",
      "737373  2022-01-06    ZTS       51517        38158    218.14     217.93     1   \n",
      "737374  2022-01-07    ZTS       37964        41849    212.91     212.95     1   \n",
      "737375  2022-01-10    ZTS       45634        41837    210.72     210.49     1   \n",
      "737376  2022-01-11    ZTS       46331        40148    211.44     211.37     1   \n",
      "737377  2022-01-12    ZTS       40228        36340    212.89     212.71     1   \n",
      "\n",
      "        trading_days  factor_1  factor_2  \n",
      "0                  1       NaN       NaN  \n",
      "1                  2       NaN       NaN  \n",
      "2                  3       NaN       NaN  \n",
      "3                  4       NaN       NaN  \n",
      "4                  5       NaN       NaN  \n",
      "...              ...       ...       ...  \n",
      "737373          1515  0.265450  613808.0  \n",
      "737374          1516  0.287745  625472.0  \n",
      "737375          1517  0.324024  654110.0  \n",
      "737376          1518  0.379862  677184.0  \n",
      "737377          1519  0.427329  691127.0  \n",
      "\n",
      "[737378 rows x 10 columns]\n"
     ]
    }
   ],
   "source": [
    "print(df)"
   ]
  },
  {
   "cell_type": "markdown",
   "id": "a5916320",
   "metadata": {},
   "source": [
    "Factor 3: Cosine similarity of monthly volume buys"
   ]
  },
  {
   "cell_type": "code",
   "execution_count": 15,
   "id": "4dee51ec",
   "metadata": {},
   "outputs": [],
   "source": [
    "factor3 = []"
   ]
  },
  {
   "cell_type": "code",
   "execution_count": 16,
   "id": "6e0fc3f9",
   "metadata": {},
   "outputs": [],
   "source": [
    "for idx in df.index:\n",
    "    if df['trading_days'][idx] >= 40:\n",
    "        cur20 = df.loc[(idx-19):idx, ['volume_buy']].to_numpy().flatten()\n",
    "        prev20 = df.loc[(idx-39):(idx-20), ['volume_buy']].to_numpy().flatten()\n",
    "        cosine = np.dot(cur20,prev20)/(norm(cur20)*norm(prev20))\n",
    "        \n",
    "        dif = np.sum(cur20) - np.sum(prev20)\n",
    "        \n",
    "        if dif >= 0:\n",
    "            direction = 1\n",
    "        else:\n",
    "            direction = -1\n",
    "        \n",
    "        factor3.append((cosine * direction))\n",
    "    else:\n",
    "        factor3.append(None)"
   ]
  },
  {
   "cell_type": "code",
   "execution_count": 17,
   "id": "1795b227",
   "metadata": {},
   "outputs": [],
   "source": [
    "df['factor_3'] = factor3"
   ]
  },
  {
   "cell_type": "code",
   "execution_count": 18,
   "id": "2415560e",
   "metadata": {},
   "outputs": [
    {
     "name": "stdout",
     "output_type": "stream",
     "text": [
      "              date ticker  volume_buy  volume_sell  vwap_buy  vwap_sell  ones  \\\n",
      "0       2016-01-04      A       28418        30233     40.60      40.54     1   \n",
      "1       2016-01-05      A       19296        44676     40.61      40.55     1   \n",
      "2       2016-01-06      A       20349        28888     40.57      40.69     1   \n",
      "3       2016-01-07      A       41094        38699     39.25      39.22     1   \n",
      "4       2016-01-08      A       32187        25654     38.83      38.87     1   \n",
      "...            ...    ...         ...          ...       ...        ...   ...   \n",
      "737373  2022-01-06    ZTS       51517        38158    218.14     217.93     1   \n",
      "737374  2022-01-07    ZTS       37964        41849    212.91     212.95     1   \n",
      "737375  2022-01-10    ZTS       45634        41837    210.72     210.49     1   \n",
      "737376  2022-01-11    ZTS       46331        40148    211.44     211.37     1   \n",
      "737377  2022-01-12    ZTS       40228        36340    212.89     212.71     1   \n",
      "\n",
      "        trading_days  factor_1  factor_2  factor_3  \n",
      "0                  1       NaN       NaN       NaN  \n",
      "1                  2       NaN       NaN       NaN  \n",
      "2                  3       NaN       NaN       NaN  \n",
      "3                  4       NaN       NaN       NaN  \n",
      "4                  5       NaN       NaN       NaN  \n",
      "...              ...       ...       ...       ...  \n",
      "737373          1515  0.265450  613808.0  0.875011  \n",
      "737374          1516  0.287745  625472.0  0.876945  \n",
      "737375          1517  0.324024  654110.0  0.879861  \n",
      "737376          1518  0.379862  677184.0  0.876338  \n",
      "737377          1519  0.427329  691127.0  0.879128  \n",
      "\n",
      "[737378 rows x 11 columns]\n"
     ]
    }
   ],
   "source": [
    "print(df)"
   ]
  },
  {
   "cell_type": "markdown",
   "id": "5ac58aa8",
   "metadata": {},
   "source": [
    "Add in the pricing data to the dataset"
   ]
  },
  {
   "cell_type": "code",
   "execution_count": 19,
   "id": "48a7123b",
   "metadata": {},
   "outputs": [],
   "source": [
    "px_data = pd.read_parquet('equity_prices.parquet')"
   ]
  },
  {
   "cell_type": "code",
   "execution_count": 20,
   "id": "daef041a",
   "metadata": {},
   "outputs": [],
   "source": [
    "px_data = px_data.sort_values(by=['ticker', 'date'])\n",
    "px_data = px_data.reset_index(drop=True)\n",
    "px_data = px_data.drop_duplicates(subset=['ticker', 'date'])"
   ]
  },
  {
   "cell_type": "code",
   "execution_count": 21,
   "id": "09120418",
   "metadata": {},
   "outputs": [],
   "source": [
    "df['date'] =  pd.to_datetime(df['date'])\n",
    "px_data['date'] =  pd.to_datetime(px_data['date'])\n",
    "df = pd.merge(df, px_data, how='left', on=['ticker', 'date'])"
   ]
  },
  {
   "cell_type": "code",
   "execution_count": 22,
   "id": "13ad5abd",
   "metadata": {
    "scrolled": true
   },
   "outputs": [
    {
     "name": "stdout",
     "output_type": "stream",
     "text": [
      "        date ticker  volume_buy  volume_sell  vwap_buy  vwap_sell  ones  \\\n",
      "0 2016-01-04      A       28418        30233     40.60      40.54     1   \n",
      "1 2016-01-05      A       19296        44676     40.61      40.55     1   \n",
      "2 2016-01-06      A       20349        28888     40.57      40.69     1   \n",
      "3 2016-01-07      A       41094        38699     39.25      39.22     1   \n",
      "4 2016-01-08      A       32187        25654     38.83      38.87     1   \n",
      "\n",
      "   trading_days  factor_1  factor_2  factor_3   open    high     low  close  \\\n",
      "0             1       NaN       NaN       NaN  41.06  41.190  40.340  40.69   \n",
      "1             2       NaN       NaN       NaN  40.73  40.950  40.340  40.55   \n",
      "2             3       NaN       NaN       NaN  40.24  40.990  40.050  40.73   \n",
      "3             4       NaN       NaN       NaN  40.14  40.150  38.810  39.00   \n",
      "4             5       NaN       NaN       NaN  39.22  39.705  38.465  38.59   \n",
      "\n",
      "      volume  closeadj  closeunadj lastupdated  \n",
      "0  3287335.0    38.614       40.69  2022-04-04  \n",
      "1  2587246.0    38.481       40.55  2022-04-04  \n",
      "2  2103619.0    38.652       40.73  2022-04-04  \n",
      "3  3504314.0    37.010       39.00  2022-04-04  \n",
      "4  3736768.0    36.621       38.59  2022-04-04  \n"
     ]
    }
   ],
   "source": [
    "print(df.head())"
   ]
  },
  {
   "cell_type": "markdown",
   "id": "1887e007",
   "metadata": {},
   "source": [
    "Add in the ticker metadata"
   ]
  },
  {
   "cell_type": "code",
   "execution_count": 23,
   "id": "489f69f1",
   "metadata": {},
   "outputs": [],
   "source": [
    "metadata = pd.read_csv('tickers_and_metadata.csv')\n",
    "metadata = metadata[['ticker', 'sector']]"
   ]
  },
  {
   "cell_type": "code",
   "execution_count": 24,
   "id": "acae6a83",
   "metadata": {},
   "outputs": [],
   "source": [
    "df = pd.merge(df, metadata, how='left', on=['ticker'])"
   ]
  },
  {
   "cell_type": "code",
   "execution_count": 25,
   "id": "1912e8ec",
   "metadata": {},
   "outputs": [
    {
     "name": "stdout",
     "output_type": "stream",
     "text": [
      "              date ticker  volume_buy  volume_sell  vwap_buy  vwap_sell  ones  \\\n",
      "0       2016-01-04      A       28418        30233     40.60      40.54     1   \n",
      "1       2016-01-04      A       28418        30233     40.60      40.54     1   \n",
      "2       2016-01-05      A       19296        44676     40.61      40.55     1   \n",
      "3       2016-01-05      A       19296        44676     40.61      40.55     1   \n",
      "4       2016-01-06      A       20349        28888     40.57      40.69     1   \n",
      "...            ...    ...         ...          ...       ...        ...   ...   \n",
      "1462600 2022-01-10    ZTS       45634        41837    210.72     210.49     1   \n",
      "1462601 2022-01-11    ZTS       46331        40148    211.44     211.37     1   \n",
      "1462602 2022-01-11    ZTS       46331        40148    211.44     211.37     1   \n",
      "1462603 2022-01-12    ZTS       40228        36340    212.89     212.71     1   \n",
      "1462604 2022-01-12    ZTS       40228        36340    212.89     212.71     1   \n",
      "\n",
      "         trading_days  factor_1  factor_2  factor_3    open    high      low  \\\n",
      "0                   1       NaN       NaN       NaN   41.06   41.19   40.340   \n",
      "1                   1       NaN       NaN       NaN   41.06   41.19   40.340   \n",
      "2                   2       NaN       NaN       NaN   40.73   40.95   40.340   \n",
      "3                   2       NaN       NaN       NaN   40.73   40.95   40.340   \n",
      "4                   3       NaN       NaN       NaN   40.24   40.99   40.050   \n",
      "...               ...       ...       ...       ...     ...     ...      ...   \n",
      "1462600          1517  0.324024  654110.0  0.879861  208.12  212.60  206.160   \n",
      "1462601          1518  0.379862  677184.0  0.876338  212.00  213.15  208.235   \n",
      "1462602          1518  0.379862  677184.0  0.876338  212.00  213.15  208.235   \n",
      "1462603          1519  0.427329  691127.0  0.879128  216.04  216.31  211.160   \n",
      "1462604          1519  0.427329  691127.0  0.879128  216.04  216.31  211.160   \n",
      "\n",
      "          close     volume  closeadj  closeunadj lastupdated      sector  \n",
      "0         40.69  3287335.0    38.614       40.69  2022-04-04  Healthcare  \n",
      "1         40.69  3287335.0    38.614       40.69  2022-04-04  Healthcare  \n",
      "2         40.55  2587246.0    38.481       40.55  2022-04-04  Healthcare  \n",
      "3         40.55  2587246.0    38.481       40.55  2022-04-04  Healthcare  \n",
      "4         40.73  2103619.0    38.652       40.73  2022-04-04  Healthcare  \n",
      "...         ...        ...       ...         ...         ...         ...  \n",
      "1462600  212.60  2232177.0   212.256      212.60  2022-01-19  Healthcare  \n",
      "1462601  212.80  2281333.0   212.456      212.80  2022-01-19  Healthcare  \n",
      "1462602  212.80  2281333.0   212.456      212.80  2022-01-19  Healthcare  \n",
      "1462603  212.81  2451401.0   212.466      212.81  2022-01-19  Healthcare  \n",
      "1462604  212.81  2451401.0   212.466      212.81  2022-01-19  Healthcare  \n",
      "\n",
      "[1462605 rows x 20 columns]\n"
     ]
    }
   ],
   "source": [
    "print(df)"
   ]
  },
  {
   "cell_type": "code",
   "execution_count": 26,
   "id": "c2a5b0ea",
   "metadata": {
    "scrolled": true
   },
   "outputs": [],
   "source": [
    "df = df.drop_duplicates()"
   ]
  },
  {
   "cell_type": "code",
   "execution_count": 27,
   "id": "cd194f30",
   "metadata": {},
   "outputs": [],
   "source": [
    "df = df[df['ticker'] != 'DISCA']\n",
    "df = df[df['ticker'] != 'DOW']\n",
    "df = df[df['ticker'] != 'FOX']\n",
    "df = df[df['ticker'] != 'FOXA']\n",
    "df = df[df['ticker'] != 'IR']\n",
    "df = df[df['ticker'] != 'UA']\n",
    "\n",
    "df = df.reset_index(drop=True)"
   ]
  },
  {
   "cell_type": "markdown",
   "id": "947a27f3",
   "metadata": {},
   "source": [
    "## Portfolio Selection"
   ]
  },
  {
   "cell_type": "markdown",
   "id": "c5210433",
   "metadata": {},
   "source": [
    "Function for selecting the top X% of stocks based on a given factor. We select the top X% of stocks in each sector so that the resulting portfolio can be sector neutral. The resulting list will be the list of stocks to go long."
   ]
  },
  {
   "cell_type": "code",
   "execution_count": 28,
   "id": "8ad7bd56",
   "metadata": {},
   "outputs": [],
   "source": [
    "def portfolio_selector_longs(df, day, factor, percentage=.20):\n",
    "    df_day = df[df['date'] == day]\n",
    "    sectors = df_day['sector'].unique()\n",
    "    \n",
    "    array_list = []\n",
    "    \n",
    "    for sector in sectors:\n",
    "        df_day_sector = df_day[df_day['sector'] == sector]\n",
    "        \n",
    "        n = round(df_day_sector['ticker'].nunique() * percentage)\n",
    "        \n",
    "        df_day_sector_largest = df_day_sector.nlargest(n=n, columns = [factor])\n",
    "        \n",
    "        tickers = df_day_sector_largest['ticker'].unique()\n",
    "        \n",
    "        array_list.append(tickers)\n",
    "    \n",
    "    portfolio = np.concatenate(array_list)\n",
    "    return portfolio "
   ]
  },
  {
   "cell_type": "markdown",
   "id": "5d53b47a",
   "metadata": {},
   "source": [
    "Function for selecting the bottom X% of stocks based on a given factor. We select the bottom X% of stocks in each sector so that the resulting portfolio can be sector neutral. The resulting list will be the list of stocks to short."
   ]
  },
  {
   "cell_type": "code",
   "execution_count": 29,
   "id": "9a65f0a8",
   "metadata": {},
   "outputs": [],
   "source": [
    "def portfolio_selector_shorts(df, day, factor, percentage=.20):\n",
    "    df_day = df[df['date'] == day]\n",
    "    sectors = df_day['sector'].unique()\n",
    "    \n",
    "    array_list = []\n",
    "    \n",
    "    for sector in sectors:\n",
    "        df_day_sector = df_day[df_day['sector'] == sector]\n",
    "        \n",
    "        n = round(df_day_sector['ticker'].nunique() * percentage)\n",
    "        \n",
    "        df_day_sector_largest = df_day_sector.nsmallest(n=n, columns = [factor])\n",
    "        \n",
    "        tickers = df_day_sector_largest['ticker'].unique()\n",
    "        \n",
    "        array_list.append(tickers)\n",
    "    \n",
    "    portfolio = np.concatenate(array_list)\n",
    "    return portfolio"
   ]
  },
  {
   "cell_type": "markdown",
   "id": "43e24a78",
   "metadata": {},
   "source": [
    "Calculating the returns of a list of stocks to short. The idea behind a short is that you think the stock is overvalued and likely to drop in price. You borrow a stock, immediately sell it, and purchase it (hopefully) at a lower price to return back. Selling date is the start date, and ending date is the purchase date."
   ]
  },
  {
   "cell_type": "code",
   "execution_count": 36,
   "id": "2846621c",
   "metadata": {},
   "outputs": [],
   "source": [
    "def calculate_returns_shorts(df, tickers, sell_date, purchase_date):\n",
    "    df_sdate = df[df['date']==sell_date]\n",
    "    df_pdate = df[df['date']==purchase_date]\n",
    "    \n",
    "    sell_prices = []\n",
    "    purchase_prices = []\n",
    "    for ticker in tickers:\n",
    "        df_pdate_ticker = df_pdate[df_pdate['ticker']==ticker]\n",
    "        df_pdate_ticker.reset_index(drop=True)\n",
    "        \n",
    "        df_sdate_ticker = df_sdate[df_sdate['ticker']==ticker]\n",
    "        df_sdate_ticker.reset_index(drop=True)\n",
    "        \n",
    "        if df_pdate_ticker.empty or df_sdate_ticker.empty:\n",
    "            sell_prices.append(float('nan'))\n",
    "            purchase_prices.append(float('nan'))\n",
    "        else:\n",
    "            purchase_prices.append(df_pdate_ticker.iloc[0]['close'])\n",
    "            sell_prices.append(df_sdate_ticker.iloc[0]['open'])\n",
    "    \n",
    "    stock_level_earnings = np.subtract(sell_prices, purchase_prices)\n",
    "    stock_level_pct_earnings = np.divide(stock_level_earnings, sell_prices)\n",
    "    \n",
    "    return stock_level_pct_earnings"
   ]
  },
  {
   "cell_type": "markdown",
   "id": "5376d4f9",
   "metadata": {},
   "source": [
    "Calculating the returns of a list of stocks to go long. Purchase date is the start date, and the ending date is the selling date. We want the price at the selling date to be higher than the price at the purchase date."
   ]
  },
  {
   "cell_type": "code",
   "execution_count": 37,
   "id": "6ab02d3f",
   "metadata": {},
   "outputs": [],
   "source": [
    "def calculate_returns_longs(df, tickers, purchase_date, sell_date):\n",
    "    df_pdate = df[df['date']==purchase_date]\n",
    "    df_sdate = df[df['date']==sell_date]\n",
    "    \n",
    "    purchase_prices = []\n",
    "    sell_prices = []\n",
    "    for ticker in tickers:\n",
    "        df_pdate_ticker = df_pdate[df_pdate['ticker']==ticker]\n",
    "        df_pdate_ticker.reset_index(drop=True)\n",
    "        \n",
    "        df_sdate_ticker = df_sdate[df_sdate['ticker']==ticker]\n",
    "        df_sdate_ticker.reset_index(drop=True)\n",
    "        \n",
    "        if df_pdate_ticker.empty or df_sdate_ticker.empty:\n",
    "            purchase_prices.append(float('nan'))\n",
    "            sell_prices.append(float('nan'))\n",
    "        else:\n",
    "            purchase_prices.append(df_pdate_ticker.iloc[0]['open'])\n",
    "            sell_prices.append(df_sdate_ticker.iloc[0]['close'])\n",
    "        \n",
    "    stock_level_earnings = np.subtract(sell_prices, purchase_prices)\n",
    "    stock_level_pct_earnings = np.divide(stock_level_earnings, purchase_prices)\n",
    "    \n",
    "    return stock_level_pct_earnings"
   ]
  },
  {
   "cell_type": "markdown",
   "id": "00652a98",
   "metadata": {},
   "source": [
    "Remove null values from the dataset for dates where a factor couldn't be produced since there weren't enough historical datapoints"
   ]
  },
  {
   "cell_type": "code",
   "execution_count": 54,
   "id": "f5550979",
   "metadata": {},
   "outputs": [],
   "source": [
    "df_filtered = df.dropna(subset=['factor_1', 'factor_2', 'factor_3'])"
   ]
  },
  {
   "cell_type": "markdown",
   "id": "cec51de5",
   "metadata": {},
   "source": [
    "List of items to iterate through"
   ]
  },
  {
   "cell_type": "code",
   "execution_count": 66,
   "id": "46f123b4",
   "metadata": {
    "scrolled": true
   },
   "outputs": [],
   "source": [
    "dates = df_filtered['date'].unique()\n",
    "holding_periods = [1, 2, 3, 4, 5, 10, 15, 20, 40, 60, 80]\n",
    "percentages = [.05, .10, .15, .20]\n",
    "factors = ['factor_1', 'factor_2', 'factor_3']"
   ]
  },
  {
   "cell_type": "markdown",
   "id": "7406f01d",
   "metadata": {},
   "source": [
    "Create empty dataframe to append to"
   ]
  },
  {
   "cell_type": "code",
   "execution_count": 67,
   "id": "be2d12cc",
   "metadata": {},
   "outputs": [],
   "source": [
    "columns = ['factor', 'holding_period', 'cut_off', 'realized_return_date', 'side', 'return']\n",
    "results_df = pd.DataFrame(columns=columns)"
   ]
  },
  {
   "cell_type": "markdown",
   "id": "36733c3f",
   "metadata": {},
   "source": [
    "Iterate through each factor, holding period, and cut off, calculating each days return given the selected options for those variables."
   ]
  },
  {
   "cell_type": "code",
   "execution_count": 68,
   "id": "59d5ecdb",
   "metadata": {},
   "outputs": [],
   "source": [
    "for factor in factors:\n",
    "    for holding_period in holding_periods:\n",
    "        for cut_off in percentages:\n",
    "            adj_holding_period = holding_period-1\n",
    "            \n",
    "            for idx in range(0, len(dates)-adj_holding_period-1):\n",
    "                selection_date = dates[idx]\n",
    "                start_date = dates[idx+1]\n",
    "                end_date = dates[idx+adj_holding_period+1]\n",
    "                \n",
    "                longs = portfolio_selector_longs(df=df_filtered, day=selection_date,\n",
    "                                                 factor=factor, percentage=cut_off)\n",
    "                shorts = portfolio_selector_shorts(df=df_filtered, day=selection_date,\n",
    "                                                   factor=factor, percentage=cut_off)\n",
    "                \n",
    "                longs_returns_pct = calculate_returns_longs(df=df_filtered, tickers=longs,\n",
    "                                                            purchase_date = start_date, sell_date = end_date)\n",
    "                shorts_returns_pct = calculate_returns_shorts(df=df_filtered, tickers=shorts,\n",
    "                                                              sell_date = start_date, purchase_date = end_date)\n",
    "                \n",
    "                longs_return_total = np.mean(longs_returns_pct)\n",
    "                shorts_return_total = np.mean(shorts_returns_pct)\n",
    "                \n",
    "                #add long dataframe\n",
    "                factor_array = [factor]\n",
    "                holding_period_array = [holding_period]\n",
    "                cut_off_array = [cut_off]\n",
    "                return_date_array = [end_date]\n",
    "                side_array = ['long']\n",
    "                \n",
    "                dictionary_l = {'factor': factor_array, 'holding_period': holding_period_array,\n",
    "                                'cut_off': cut_off_array, 'realized_return_date': return_date_array,\n",
    "                                'side': side_array, 'return': longs_return_total}\n",
    "                add_df = pd.DataFrame(data=dictionary_l)\n",
    "                results_df = pd.concat([results_df, add_df], axis=0)\n",
    "                \n",
    "                #add short dataframe\n",
    "                side_array = ['short']\n",
    "                \n",
    "                dictionary_s = {'factor': factor_array, 'holding_period': holding_period_array,\n",
    "                                'cut_off': cut_off_array, 'realized_return_date': return_date_array,\n",
    "                                'side': side_array, 'return': shorts_return_total}\n",
    "                add_df = pd.DataFrame(data=dictionary_s)\n",
    "                results_df = pd.concat([results_df, add_df], axis=0)"
   ]
  },
  {
   "cell_type": "markdown",
   "id": "74fe2053",
   "metadata": {},
   "source": [
    "Printing results and resetting the index"
   ]
  },
  {
   "cell_type": "code",
   "execution_count": 69,
   "id": "577faf61",
   "metadata": {
    "scrolled": false
   },
   "outputs": [
    {
     "name": "stdout",
     "output_type": "stream",
     "text": [
      "          factor holding_period  cut_off realized_return_date   side    return\n",
      "0       factor_1              1     0.05           2016-03-02   long  0.012724\n",
      "1       factor_1              1     0.05           2016-03-02  short -0.014056\n",
      "2       factor_1              1     0.05           2016-03-03   long  0.006367\n",
      "3       factor_1              1     0.05           2016-03-03  short -0.015051\n",
      "4       factor_1              1     0.05           2016-03-04   long  0.004394\n",
      "...          ...            ...      ...                  ...    ...       ...\n",
      "384955  factor_3             80     0.20           2022-01-10  short -0.045816\n",
      "384956  factor_3             80     0.20           2022-01-11   long  0.092658\n",
      "384957  factor_3             80     0.20           2022-01-11  short -0.078080\n",
      "384958  factor_3             80     0.20           2022-01-12   long  0.088462\n",
      "384959  factor_3             80     0.20           2022-01-12  short -0.069448\n",
      "\n",
      "[384960 rows x 6 columns]\n"
     ]
    }
   ],
   "source": [
    "print(results_df.reset_index(drop=True))"
   ]
  }
 ],
 "metadata": {
  "kernelspec": {
   "display_name": "Python 3 (ipykernel)",
   "language": "python",
   "name": "python3"
  },
  "language_info": {
   "codemirror_mode": {
    "name": "ipython",
    "version": 3
   },
   "file_extension": ".py",
   "mimetype": "text/x-python",
   "name": "python",
   "nbconvert_exporter": "python",
   "pygments_lexer": "ipython3",
   "version": "3.8.12"
  }
 },
 "nbformat": 4,
 "nbformat_minor": 5
}
