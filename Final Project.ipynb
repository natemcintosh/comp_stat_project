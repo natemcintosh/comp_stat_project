{
 "cells": [
  {
   "cell_type": "markdown",
   "id": "78290b74",
   "metadata": {},
   "source": [
    "We will only need pandas and numpy for this exercise"
   ]
  },
  {
   "cell_type": "code",
   "execution_count": 1,
   "id": "d2ab0d26",
   "metadata": {},
   "outputs": [],
   "source": [
    "import pandas as pd\n",
    "import numpy as np\n",
    "from numpy.linalg import norm"
   ]
  },
  {
   "cell_type": "markdown",
   "id": "bf9de981",
   "metadata": {},
   "source": [
    "Read in the parquet file"
   ]
  },
  {
   "cell_type": "code",
   "execution_count": 2,
   "id": "9b10c1e0",
   "metadata": {},
   "outputs": [],
   "source": [
    "df = pd.read_parquet('retail_flow_daily.parquet')"
   ]
  },
  {
   "cell_type": "markdown",
   "id": "41f38cc2",
   "metadata": {},
   "source": [
    "Preview of the data"
   ]
  },
  {
   "cell_type": "code",
   "execution_count": 3,
   "id": "b0a2455b",
   "metadata": {},
   "outputs": [
    {
     "name": "stdout",
     "output_type": "stream",
     "text": [
      "         date ticker  volume_buy  volume_sell  vwap_buy  vwap_sell\n",
      "0  2016-01-04      A       28418        30233     40.60      40.54\n",
      "1  2016-01-04    AAL      448009       437415     40.79      40.83\n",
      "2  2016-01-04    AAP       45070        31598    152.29     152.02\n",
      "3  2016-01-04   AAPL     3030463      2640489    103.91     103.84\n",
      "4  2016-01-04   ABBV      307619       291025     57.25      57.28\n"
     ]
    }
   ],
   "source": [
    "print(df.head())"
   ]
  },
  {
   "cell_type": "markdown",
   "id": "bf96cc09",
   "metadata": {},
   "source": [
    "Sort values by ticker, and then by date"
   ]
  },
  {
   "cell_type": "code",
   "execution_count": 4,
   "id": "3b17d82d",
   "metadata": {},
   "outputs": [],
   "source": [
    "df = df.sort_values(by=['ticker', 'date'])\n",
    "df = df.reset_index(drop=True)"
   ]
  },
  {
   "cell_type": "markdown",
   "id": "c18c96e3",
   "metadata": {},
   "source": [
    "Create a column full of 1's. This will allow us to easily see how many days have passed (since we'll be looking at previous x trading days."
   ]
  },
  {
   "cell_type": "code",
   "execution_count": 5,
   "id": "bac859e7",
   "metadata": {},
   "outputs": [],
   "source": [
    "df['ones']= 1"
   ]
  },
  {
   "cell_type": "markdown",
   "id": "6578ce66",
   "metadata": {},
   "source": [
    "Index by ticker and date, and then cumulative sum the data"
   ]
  },
  {
   "cell_type": "code",
   "execution_count": 6,
   "id": "16771167",
   "metadata": {},
   "outputs": [],
   "source": [
    "df_grouped = df.groupby(['ticker', 'date']).sum().groupby(level=0).cumsum()"
   ]
  },
  {
   "cell_type": "code",
   "execution_count": 7,
   "id": "d88a8b55",
   "metadata": {},
   "outputs": [
    {
     "name": "stdout",
     "output_type": "stream",
     "text": [
      "                   volume_buy  volume_sell   vwap_buy  vwap_sell  ones\n",
      "ticker date                                                           \n",
      "A      2016-01-04       28418        30233      40.60      40.54     1\n",
      "       2016-01-05       47714        74909      81.21      81.09     2\n",
      "       2016-01-06       68063       103797     121.78     121.78     3\n",
      "       2016-01-07      109157       142496     161.03     161.00     4\n",
      "       2016-01-08      141344       168150     199.86     199.87     5\n",
      "...                       ...          ...        ...        ...   ...\n",
      "ZTS    2022-01-06    68433030     64925805  161743.90  161727.86  1515\n",
      "       2022-01-07    68470994     64967654  161956.81  161940.81  1516\n",
      "       2022-01-10    68516628     65009491  162167.53  162151.30  1517\n",
      "       2022-01-11    68562959     65049639  162378.97  162362.67  1518\n",
      "       2022-01-12    68603187     65085979  162591.86  162575.38  1519\n",
      "\n",
      "[737378 rows x 5 columns]\n"
     ]
    }
   ],
   "source": [
    "print(df_grouped)"
   ]
  },
  {
   "cell_type": "code",
   "execution_count": 8,
   "id": "3cbdf0ad",
   "metadata": {
    "scrolled": true
   },
   "outputs": [],
   "source": [
    "df_grouped = df_grouped.reset_index(drop=True)"
   ]
  },
  {
   "cell_type": "markdown",
   "id": "ba11379d",
   "metadata": {},
   "source": [
    "Factor 1: percent change over the last 20 trading days relative to prior 20 trading day period."
   ]
  },
  {
   "cell_type": "code",
   "execution_count": 9,
   "id": "9c70f698",
   "metadata": {},
   "outputs": [],
   "source": [
    "factor1 = []"
   ]
  },
  {
   "cell_type": "code",
   "execution_count": 10,
   "id": "6bfa610e",
   "metadata": {},
   "outputs": [],
   "source": [
    "for idx in df_grouped.index:\n",
    "    if df_grouped['ones'][idx] >= 40:\n",
    "        cur_buy_change = df_grouped['volume_buy'][idx] - df_grouped['volume_buy'][idx-19]\n",
    "        prev_buy_change = df_grouped['volume_buy'][idx-20] - df_grouped['volume_buy'][idx-39]\n",
    "        percent_change = (cur_buy_change - prev_buy_change) / prev_buy_change\n",
    "        factor1.append(percent_change)\n",
    "    else:\n",
    "        factor1.append(None)"
   ]
  },
  {
   "cell_type": "markdown",
   "id": "b23bf03b",
   "metadata": {},
   "source": [
    "Factor 2: Total volume buys in the last 20 trading days"
   ]
  },
  {
   "cell_type": "code",
   "execution_count": 11,
   "id": "ff2e16ba",
   "metadata": {},
   "outputs": [],
   "source": [
    "factor2 = []"
   ]
  },
  {
   "cell_type": "code",
   "execution_count": 12,
   "id": "79adbf02",
   "metadata": {},
   "outputs": [],
   "source": [
    "for idx in df_grouped.index:\n",
    "    if df_grouped['ones'][idx] >= 20:\n",
    "        l20_volume = df_grouped['volume_buy'][idx] - df_grouped['volume_buy'][idx-19]\n",
    "        factor2.append(l20_volume)\n",
    "    else:\n",
    "        factor2.append(None)"
   ]
  },
  {
   "cell_type": "markdown",
   "id": "b93110ee",
   "metadata": {},
   "source": [
    "Add factor1, factor 2, and the number of days column to the original dataframe, since the third factor doesn't need cumulative sum data."
   ]
  },
  {
   "cell_type": "code",
   "execution_count": 13,
   "id": "e28fa040",
   "metadata": {},
   "outputs": [],
   "source": [
    "df['trading_days'] = df_grouped['ones']\n",
    "df['factor_1'] = factor1\n",
    "df['factor_2'] = factor2"
   ]
  },
  {
   "cell_type": "code",
   "execution_count": 14,
   "id": "a76c6842",
   "metadata": {},
   "outputs": [
    {
     "name": "stdout",
     "output_type": "stream",
     "text": [
      "              date ticker  volume_buy  volume_sell  vwap_buy  vwap_sell  ones  \\\n",
      "0       2016-01-04      A       28418        30233     40.60      40.54     1   \n",
      "1       2016-01-05      A       19296        44676     40.61      40.55     1   \n",
      "2       2016-01-06      A       20349        28888     40.57      40.69     1   \n",
      "3       2016-01-07      A       41094        38699     39.25      39.22     1   \n",
      "4       2016-01-08      A       32187        25654     38.83      38.87     1   \n",
      "...            ...    ...         ...          ...       ...        ...   ...   \n",
      "737373  2022-01-06    ZTS       51517        38158    218.14     217.93     1   \n",
      "737374  2022-01-07    ZTS       37964        41849    212.91     212.95     1   \n",
      "737375  2022-01-10    ZTS       45634        41837    210.72     210.49     1   \n",
      "737376  2022-01-11    ZTS       46331        40148    211.44     211.37     1   \n",
      "737377  2022-01-12    ZTS       40228        36340    212.89     212.71     1   \n",
      "\n",
      "        trading_days  factor_1  factor_2  \n",
      "0                  1       NaN       NaN  \n",
      "1                  2       NaN       NaN  \n",
      "2                  3       NaN       NaN  \n",
      "3                  4       NaN       NaN  \n",
      "4                  5       NaN       NaN  \n",
      "...              ...       ...       ...  \n",
      "737373          1515  0.265450  613808.0  \n",
      "737374          1516  0.287745  625472.0  \n",
      "737375          1517  0.324024  654110.0  \n",
      "737376          1518  0.379862  677184.0  \n",
      "737377          1519  0.427329  691127.0  \n",
      "\n",
      "[737378 rows x 10 columns]\n"
     ]
    }
   ],
   "source": [
    "print(df)"
   ]
  },
  {
   "cell_type": "markdown",
   "id": "a5916320",
   "metadata": {},
   "source": [
    "Factor 3: Cosine similarity of monthly volume buys"
   ]
  },
  {
   "cell_type": "code",
   "execution_count": 15,
   "id": "4dee51ec",
   "metadata": {},
   "outputs": [],
   "source": [
    "factor3 = []"
   ]
  },
  {
   "cell_type": "code",
   "execution_count": 16,
   "id": "6e0fc3f9",
   "metadata": {},
   "outputs": [],
   "source": [
    "for idx in df.index:\n",
    "    if df['trading_days'][idx] >= 40:\n",
    "        cur20 = df.loc[(idx-19):idx, ['volume_buy']].to_numpy().flatten()\n",
    "        prev20 = df.loc[(idx-39):(idx-20), ['volume_buy']].to_numpy().flatten()\n",
    "        cosine = np.dot(cur20,prev20)/(norm(cur20)*norm(prev20))\n",
    "        \n",
    "        dif = np.sum(cur20) - np.sum(prev20)\n",
    "        \n",
    "        if dif >= 0:\n",
    "            direction = 1\n",
    "        else:\n",
    "            direction = -1\n",
    "        \n",
    "        factor3.append((cosine * direction))\n",
    "    else:\n",
    "        factor3.append(None)"
   ]
  },
  {
   "cell_type": "code",
   "execution_count": 17,
   "id": "1795b227",
   "metadata": {},
   "outputs": [],
   "source": [
    "df['factor_3'] = factor3"
   ]
  },
  {
   "cell_type": "code",
   "execution_count": 18,
   "id": "2415560e",
   "metadata": {},
   "outputs": [
    {
     "name": "stdout",
     "output_type": "stream",
     "text": [
      "              date ticker  volume_buy  volume_sell  vwap_buy  vwap_sell  ones  \\\n",
      "0       2016-01-04      A       28418        30233     40.60      40.54     1   \n",
      "1       2016-01-05      A       19296        44676     40.61      40.55     1   \n",
      "2       2016-01-06      A       20349        28888     40.57      40.69     1   \n",
      "3       2016-01-07      A       41094        38699     39.25      39.22     1   \n",
      "4       2016-01-08      A       32187        25654     38.83      38.87     1   \n",
      "...            ...    ...         ...          ...       ...        ...   ...   \n",
      "737373  2022-01-06    ZTS       51517        38158    218.14     217.93     1   \n",
      "737374  2022-01-07    ZTS       37964        41849    212.91     212.95     1   \n",
      "737375  2022-01-10    ZTS       45634        41837    210.72     210.49     1   \n",
      "737376  2022-01-11    ZTS       46331        40148    211.44     211.37     1   \n",
      "737377  2022-01-12    ZTS       40228        36340    212.89     212.71     1   \n",
      "\n",
      "        trading_days  factor_1  factor_2  factor_3  \n",
      "0                  1       NaN       NaN       NaN  \n",
      "1                  2       NaN       NaN       NaN  \n",
      "2                  3       NaN       NaN       NaN  \n",
      "3                  4       NaN       NaN       NaN  \n",
      "4                  5       NaN       NaN       NaN  \n",
      "...              ...       ...       ...       ...  \n",
      "737373          1515  0.265450  613808.0  0.875011  \n",
      "737374          1516  0.287745  625472.0  0.876945  \n",
      "737375          1517  0.324024  654110.0  0.879861  \n",
      "737376          1518  0.379862  677184.0  0.876338  \n",
      "737377          1519  0.427329  691127.0  0.879128  \n",
      "\n",
      "[737378 rows x 11 columns]\n"
     ]
    }
   ],
   "source": [
    "print(df)"
   ]
  }
 ],
 "metadata": {
  "kernelspec": {
   "display_name": "Python 3 (ipykernel)",
   "language": "python",
   "name": "python3"
  },
  "language_info": {
   "codemirror_mode": {
    "name": "ipython",
    "version": 3
   },
   "file_extension": ".py",
   "mimetype": "text/x-python",
   "name": "python",
   "nbconvert_exporter": "python",
   "pygments_lexer": "ipython3",
   "version": "3.8.12"
  }
 },
 "nbformat": 4,
 "nbformat_minor": 5
}
